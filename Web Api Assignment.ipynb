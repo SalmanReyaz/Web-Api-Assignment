{
 "cells": [
  {
   "cell_type": "markdown",
   "id": "f0e3a1d2",
   "metadata": {},
   "source": [
    "# `Q1. What is an API? Give an example, where an API is used in real life.`\n"
   ]
  },
  {
   "cell_type": "markdown",
   "id": "bbab8eff",
   "metadata": {},
   "source": [
    " ## > API is the acronym for application programming interface — a software intermediary that allows two applications to talk to each other. APIs are an accessible way to extract and share data within and across organizations.\n",
    "\n",
    "## APIs are all around us. Every time you use a rideshare app, send a mobile payment, or change the thermostat temperature from your phone, you’re using an API.\n",
    "\n",
    "\n",
    "\n",
    "\n",
    "\n",
    "\n",
    "\n",
    "# used of API\n",
    "\n",
    "\n",
    "# > Ever used PayPal to pay for something, directly within an eCommerce store? Yep, that’s a payment API at work. Just like with logging-in using a social media service, the “Pay with PayPal” functionality is built with APIs to ensure that the end application can only do what it needs to, without being exposed to sensitive data or gaining access to unintended permissions.\n",
    "\n",
    "\n",
    "\n",
    "\n",
    "# > travel booking sites are able to aggregate thousands of flights and destinations and showcase the cheapest option? Often, the answer is by using third-party APIs to collect flight and hotel availabilities from providers. Likewise, if you make a booking through one of these services, they’ll use APIs to confirm the trip with the provider they sourced it from.\n",
    "\n",
    "\n",
    "\n",
    "\n",
    "# > __Automotive companies like Tesla send software updates via APIs. Others use APIs to unlock car data for third parties.__"
   ]
  },
  {
   "cell_type": "code",
   "execution_count": null,
   "id": "eacbecc6",
   "metadata": {},
   "outputs": [],
   "source": []
  },
  {
   "cell_type": "markdown",
   "id": "17f61f9a",
   "metadata": {},
   "source": [
    "# `Q2. Give advantages and disadvantages of using API.``"
   ]
  },
  {
   "cell_type": "markdown",
   "id": "a8a8c139",
   "metadata": {},
   "source": [
    "The Advantages of Using API:----\n",
    "    \n",
    "\n",
    "- By using APIs, developers can save time and effort by integrating pre-built components and services. This accelerates development and reduces the need to build every feature from scratch, which can lead to cost savings.\n",
    "\n",
    "\n",
    "- APIs enable different software systems to communicate and interact, even if they're built using different technologies or languages. This promotes interoperability and allows applications to work together seamlessly.\n",
    "\n",
    "\n",
    "- APIs can enable third-party developers to create applications that integrate with existing software systems, providing a better user experience and increased functionality.\n",
    "\n",
    "\n",
    "- APIs can enable companies to create new revenue streams by providing third-party developers with access to their software systems.\n",
    "\n",
    "\n",
    "\n",
    "DISADVANTAGES:---\n",
    "\n",
    "\n",
    "- Security:--- API infrastructures can be vulnerable to security breaches, such as SQL injection attacks and cross-site scripting (XSS) attacks, making it crucial to implement security measures to protect against these threats.\n",
    "\n",
    "\n",
    "- APIs can be complex, requiring a significant amount of development effort to implement and maintain.\n",
    "\n",
    "\n",
    "- PIs can have compatibility issues between different versions of the same software system or between different systems, which can lead to errors and system failures.\n",
    "\n",
    "\n",
    "- APIs require proper governance and management to ensure they are being used correctly and consistently across different applications and systems.\n",
    "\n",
    "\n",
    "- While many APIs offer free tiers, some advanced or high-usage features might come at a cost. Organizations should consider the potential expenses associated with using certain APIs."
   ]
  },
  {
   "cell_type": "code",
   "execution_count": null,
   "id": "10d81a6a",
   "metadata": {},
   "outputs": [],
   "source": [
    "\n"
   ]
  },
  {
   "cell_type": "markdown",
   "id": "728b809c",
   "metadata": {},
   "source": [
    "# `Q3. What is a Web API? Differentiate between API and Web API.`"
   ]
  },
  {
   "cell_type": "markdown",
   "id": "14b4c6b9",
   "metadata": {},
   "source": [
    "# __Ans:-__\n",
    "\n",
    "\n",
    "\n",
    "## Web API is an API as the name suggests, it can be accessed over the web using the HTTP protocol. It is a framework that helps you to create and develop HTTP based RESTFUL services. The web API can be developed by using different technologies such as java, ASP.NET, etc. Web API is used in either a web server or a web browser. \n",
    "\n",
    "\n",
    "# API AND WEB API:----\n",
    "\n",
    "\n",
    "\n",
    "\n",
    "\n",
    "- The term \"API\" is broad and encompasses various types of interfaces, including libraries, classes, functions, and protocols, that allow interaction between different software components\n",
    "\n",
    ".\n",
    "\n",
    "\n",
    "- APIs can involve communication between software components within the same application or between different applications running on the same device.\n",
    "\n",
    "\n",
    "\n",
    "\n",
    "-  APIs can be accessed using various communication protocols, such as function calls, libraries, or custom protocols.\n",
    "\n",
    "\n",
    "\n",
    "\n",
    "\n",
    "\n",
    "- APIs is used for REST, SOAP and XML-RPC for communication.\n",
    "\n",
    "\n",
    "\n",
    "\n",
    "\n",
    " `--------------------------------------------------------------------------------------------------------`\n",
    "\n",
    "\n",
    "\n",
    "   # ` A Web API specifically refers to an API that is accessible over the internet through HTTP requests and is designed for remote communication between applications.`\n",
    "   \n",
    "   \n",
    "  # `Web APIs are designed for communication over the internet and typically involve requests and responses exchanged between clients (requesting applications) and servers (providing the API) using the HTTP protocol.`\n",
    "  \n",
    "  \n",
    "  # `Web APIs are specifically accessed using the HTTP protocol, which is the foundation of the World Wide Web. This makes them suitable for cross-platform and cross-device communication.`\n",
    "  \n",
    "  # `API is used for any style of communication.`\n",
    "\n",
    "\n",
    "  # `It is an open source and also ships with .NET framework.`\n",
    "\n",
    "\n"
   ]
  },
  {
   "cell_type": "code",
   "execution_count": null,
   "id": "fb58adcc",
   "metadata": {},
   "outputs": [],
   "source": []
  },
  {
   "cell_type": "markdown",
   "id": "0bc8a876",
   "metadata": {},
   "source": [
    "# `Q4. Explain REST and SOAP Architecture. Mention shortcomings of SOAP.`"
   ]
  },
  {
   "cell_type": "markdown",
   "id": "3e25bf0c",
   "metadata": {},
   "source": [
    "##  `REST stands for Representational State Transfer.`\n",
    "\n",
    "## __REST is an architectural style for designing networked applications, particularly web services, that use standard HTTP methods for communication. REST is based on a set of principles that promote simplicity, scalability, and statelessness. In REST, resources (such as data entities) are represented by URLs, and clients interact with these resources using HTTP methods like GET, POST, PUT, and DELETE.__\n",
    "\n",
    "\n",
    "\n",
    "\n",
    "## SOAP stands for Simple Object Access Protocol \n",
    "\n",
    "## `SOAP is a protocol for exchanging structured information in the implementation of web services. Unlike REST, which primarily uses HTTP, SOAP can work over various protocols, including HTTP, SMTP, and more. SOAP messages are formatted using XML and typically include a header and a body. SOAP allows for more robust error handling, security, and transactional support compared to REST.`\n",
    "\n",
    "## _SOAP messages are XML-based and contain both a header and a body. The header can include metadata, such as authentication or routing information._\n",
    "\n",
    "\n",
    "\n",
    "\n",
    "\n",
    "\n",
    "# `Shortcomings of SOAP:`\n",
    "\n",
    "\n",
    "## Complexity: SOAP messages are verbose and require more bandwidth due to their XML-based format. This complexity can increase the time required for parsing and transmission.\n",
    "\n",
    "## Performance Overhead: The additional features and extensibility of SOAP come at a performance cost. Compared to REST, SOAP can be slower due to its processing and data parsing requirements.\n",
    "\n",
    "## Limited Browser Support: SOAP is not as browser-friendly as REST. While REST APIs can be easily tested and accessed using web browsers, SOAP typically requires specialized tools.\n",
    "\n",
    "## Learning Curve: Implementing and working with SOAP services can be more challenging due to its intricacies and various specifications.\n"
   ]
  },
  {
   "cell_type": "code",
   "execution_count": null,
   "id": "bb9582d5",
   "metadata": {},
   "outputs": [],
   "source": []
  },
  {
   "cell_type": "markdown",
   "id": "461e2de7",
   "metadata": {},
   "source": [
    "\n",
    "# `Q5. Differentiate between REST and SOAP.`"
   ]
  },
  {
   "cell_type": "markdown",
   "id": "26ed05a9",
   "metadata": {},
   "source": [
    "\n",
    "- Relies on SOAP (Simple Object Access Protocol)\n",
    "\n",
    "- XML based and relies on SOAP, it works with WSDL\n",
    "\n",
    "- Works over HTTP, HTTPS, SMTP, XMPP\n",
    "\n",
    "- Typically uses lightweight formats like JSON for data interchange. Data is often structured in a simple key-value or hierarchical format.\n",
    "\n",
    "\n",
    "-  Uses standard HTTP status codes to indicate the outcome of a request (e.g., 404 for \"Not Found,\" 500 for \"Internal Server Error\").\n",
    "\n",
    "- Security mechanisms are typically implemented at the transport level (HTTPS). \n",
    "\n",
    "\n",
    "`---------------------------------------------------------------------------------------------------------------`\n",
    "\n",
    "\n",
    "       \n",
    "- Relies on REST (Representational State Transfer) architecture using HTTP.\n",
    "\n",
    "\n",
    "- It works with GET, POST, PUT, DELETE.\n",
    "\n",
    "- Works over HTTP and HTTPS.\n",
    "\n",
    "-  Uses XML for message formatting, including a header and a body. The XML structure allows for more complex and structured data representation\n",
    "\n",
    "\n",
    "- Includes built-in error handling using standardized fault elements in XML-based messages.\n",
    "\n",
    "\n",
    "- Offers a more standardized and comprehensive approach to security through WS-Security, supporting encryption and digital signatures."
   ]
  },
  {
   "cell_type": "code",
   "execution_count": null,
   "id": "5eda906a",
   "metadata": {},
   "outputs": [],
   "source": []
  },
  {
   "cell_type": "code",
   "execution_count": null,
   "id": "081330ad",
   "metadata": {},
   "outputs": [],
   "source": [
    "\n",
    "\n"
   ]
  },
  {
   "cell_type": "code",
   "execution_count": null,
   "id": "75fee8df",
   "metadata": {},
   "outputs": [],
   "source": []
  },
  {
   "cell_type": "code",
   "execution_count": null,
   "id": "6aa89053",
   "metadata": {},
   "outputs": [],
   "source": []
  },
  {
   "cell_type": "code",
   "execution_count": null,
   "id": "aaa028ac",
   "metadata": {},
   "outputs": [],
   "source": []
  },
  {
   "cell_type": "code",
   "execution_count": null,
   "id": "4445805e",
   "metadata": {},
   "outputs": [],
   "source": []
  }
 ],
 "metadata": {
  "kernelspec": {
   "display_name": "Python 3 (ipykernel)",
   "language": "python",
   "name": "python3"
  },
  "language_info": {
   "codemirror_mode": {
    "name": "ipython",
    "version": 3
   },
   "file_extension": ".py",
   "mimetype": "text/x-python",
   "name": "python",
   "nbconvert_exporter": "python",
   "pygments_lexer": "ipython3",
   "version": "3.9.12"
  }
 },
 "nbformat": 4,
 "nbformat_minor": 5
}
